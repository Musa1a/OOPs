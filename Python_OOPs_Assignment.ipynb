{
  "nbformat": 4,
  "nbformat_minor": 0,
  "metadata": {
    "colab": {
      "provenance": []
    },
    "kernelspec": {
      "name": "python3",
      "display_name": "Python 3"
    },
    "language_info": {
      "name": "python"
    }
  },
  "cells": [
    {
      "cell_type": "markdown",
      "source": [
        "**Question-1: What is Object-Oriented Programming (OOP)?**\n",
        "\n",
        "**Answer:** Object-Oriented Programming (OOP) is a programming paradigm based on the concept of \"objects\", which can contain data (in the form of fields or attributes) and code (in the form of methods or functions).\n",
        "\n",
        "**Key Concepts of OOP:**\n",
        "Class: A blueprint for creating objects. It defines attributes and behaviors.\n",
        "\n",
        "**Object:** An instance of a class. It holds actual data and can use the methods defined in the class.\n",
        "\n",
        "**Encapsulation:** Bundling data and methods that operate on the data within one unit (a class), and restricting access to some of the object's components.\n",
        "\n",
        "**Inheritance:** A mechanism by which one class (child or subclass) can inherit the attributes and methods of another class (parent or superclass).\n",
        "\n",
        "**Polymorphism:** The ability to use a shared interface for different underlying forms (data types or classes).\n",
        "\n",
        "**Abstraction:** Hiding the complex implementation details and showing only the essential features of an object.\n",
        "\n",
        "**Example in Python:**"
      ],
      "metadata": {
        "id": "P0jTsik7Qot9"
      }
    },
    {
      "cell_type": "code",
      "source": [
        "class Animal:\n",
        "    def __init__(self, name):\n",
        "        self.name = name\n",
        "\n",
        "    def speak(self):\n",
        "        return \"Some sound\"\n",
        "\n",
        "class Dog(Animal):\n",
        "    def speak(self):\n",
        "        return \"Woof!\"\n",
        "\n",
        "dog = Dog(\"Buddy\")\n",
        "print(dog.speak())  # Output: Woof!"
      ],
      "metadata": {
        "colab": {
          "base_uri": "https://localhost:8080/"
        },
        "id": "zp7YZZv8R7NC",
        "outputId": "9847f833-5217-4d85-8457-83409cbd3c4c"
      },
      "execution_count": null,
      "outputs": [
        {
          "output_type": "stream",
          "name": "stdout",
          "text": [
            "Woof!\n"
          ]
        }
      ]
    },
    {
      "cell_type": "markdown",
      "source": [
        "**Question-2:  What is a class in OOP?**\n",
        "\n",
        "\n",
        "**Answer:** In Object-Oriented Programming (OOP), a class is like a blueprint or template for creating objects.\n",
        "\n",
        "**It defines:**\n",
        "\n",
        "Attributes (data members): variables that hold data.\n",
        "\n",
        "Methods (functions): operations that can be performed on or by the object.\n",
        "\n",
        "**Think of it like:**\n",
        "A class is like a blueprint for a house—it defines how the house should be built (rooms, doors, etc.), but it's not an actual house until you build it (create an object).\n",
        "\n",
        "**Example in Python:**"
      ],
      "metadata": {
        "id": "c7gTXfq9WVrL"
      }
    },
    {
      "cell_type": "code",
      "source": [
        "class Car:\n",
        "    def __init__(self, brand, model):\n",
        "        self.brand = brand  # attribute\n",
        "        self.model = model  # attribute\n",
        "\n",
        "    def start_engine(self):  # method\n",
        "        print(f\"{self.brand} {self.model} engine started.\")"
      ],
      "metadata": {
        "id": "y9Uykw8uWuZE"
      },
      "execution_count": null,
      "outputs": []
    },
    {
      "cell_type": "markdown",
      "source": [
        "Here, Car is a class. When you create an object like my_car = Car(\"Toyota\", \"Corolla\"), you're making a specific car based on that blueprint."
      ],
      "metadata": {
        "id": "-13xOewrW3bF"
      }
    },
    {
      "cell_type": "markdown",
      "source": [
        "**Question-3: What is an object in OOP?**\n",
        "\n",
        "**Answer:** In Object-Oriented Programming (OOP), an object is an instance of a class.\n",
        "\n",
        "It is a concrete entity that has:\n",
        "\n",
        "State (stored in attributes)\n",
        "\n",
        "Behavior (defined by methods)\n",
        "\n",
        "**Think of it like**:\n",
        "If a class is a blueprint, then an object is the actual product built from that blueprint.\n",
        "\n",
        "**Example in Python:**"
      ],
      "metadata": {
        "id": "TwJ3-yMjXU0f"
      }
    },
    {
      "cell_type": "code",
      "source": [
        "class Car:\n",
        "    def __init__(self, brand, model):\n",
        "        self.brand = brand\n",
        "        self.model = model\n",
        "\n",
        "    def drive(self):\n",
        "        print(f\"{self.brand} {self.model} is driving.\")\n",
        "\n",
        "# Creating an object\n",
        "my_car = Car(\"Tesla\", \"Model 3\")\n",
        "\n",
        "# Using the object's method\n",
        "my_car.drive()"
      ],
      "metadata": {
        "colab": {
          "base_uri": "https://localhost:8080/"
        },
        "id": "M1S03o-TZv_7",
        "outputId": "d227fccf-bdf1-43b5-d7bb-b34b52cd1043"
      },
      "execution_count": null,
      "outputs": [
        {
          "output_type": "stream",
          "name": "stdout",
          "text": [
            "Tesla Model 3 is driving.\n"
          ]
        }
      ]
    },
    {
      "cell_type": "markdown",
      "source": [
        "Here, my_car is an object of the Car class. It has its own brand and model, and it can perform actions like drive()."
      ],
      "metadata": {
        "id": "qbfwGeSfZyxA"
      }
    },
    {
      "cell_type": "markdown",
      "source": [
        "**Question-4: What is the difference between abstraction and encapsulation?**\n",
        "\n",
        "**Answer:**  Abstraction and Encapsulation are both fundamental concepts in OOP, but they serve different purposes.\n",
        "\n",
        " **Abstraction**\n",
        "Focus: Hiding complexity and showing only essential features.\n",
        "\n",
        "**Goal:** Simplify the interface, so users don’t need to understand the full implementation.\n",
        "\n",
        "**How:** Achieved using abstract classes, interfaces, or methods that expose only what’s necessary.\n",
        "\n",
        "Example:\n",
        "\n",
        "When you drive a car, you just use the steering wheel and pedals (interface), but you don't need to know how the engine works."
      ],
      "metadata": {
        "id": "ATjkq_AhZ3LC"
      }
    },
    {
      "cell_type": "code",
      "source": [
        "from abc import ABC, abstractmethod\n",
        "\n",
        "class Animal(ABC):\n",
        "    @abstractmethod\n",
        "    def make_sound(self):\n",
        "        pass\n",
        "\n",
        "class Dog(Animal):\n",
        "    def make_sound(self):\n",
        "        return \"Bark\""
      ],
      "metadata": {
        "id": "VdBO5i7kaYDi"
      },
      "execution_count": null,
      "outputs": []
    },
    {
      "cell_type": "markdown",
      "source": [
        "**Encapsulation Focus:** Hiding the internal state and requiring all interaction to go through methods.\n",
        "\n",
        "**Goal:** Protect data and control how it's accessed or modified.\n",
        "\n",
        "**How:** Done using private/public/protected attributes and getter/setter methods.\n",
        "\n",
        "**Example:**\n",
        "\n",
        "A class hides its data by marking attributes as private, so users must use methods to access them safely."
      ],
      "metadata": {
        "id": "gGEKPOfdaa1P"
      }
    },
    {
      "cell_type": "code",
      "source": [
        "class Person:\n",
        "    def __init__(self, age):\n",
        "        self.__age = age  # private attribute\n",
        "\n",
        "    def get_age(self):\n",
        "        return self.__age\n",
        "\n",
        "    def set_age(self, age):\n",
        "        if age >= 0:\n",
        "            self.__age = age"
      ],
      "metadata": {
        "id": "DCaH2iWGaoT8"
      },
      "execution_count": null,
      "outputs": []
    },
    {
      "cell_type": "markdown",
      "source": [
        "**In Short:**\n",
        "\n",
        "**Concept**\t    **What it Hides**\t   **Purpose**\t    **Real-world Analogy**\n",
        "\n",
        "\n",
        "**Abstraction**\tImplementation details\tReduce complexity\tYou use a phone, not caring how circuits work\n",
        "\n",
        "**Encapsulation**\tInternal object data\tProtect data, control access\tYou\n",
        "\n",
        "can't directly change a bank balance"
      ],
      "metadata": {
        "id": "ZWlCfas0as1J"
      }
    },
    {
      "cell_type": "markdown",
      "source": [
        "**Question-5: What are dunder methods in Python?**\n",
        "\n",
        "**Answer:** Dunder methods in Python (short for \"double underscore\" methods, also called magic methods) are special methods with names that start and end with double underscores (e.g., __init__, __str__, __add__).\n",
        "\n",
        "They allow you to customize how objects behave with built-in functions and operators.\n",
        "\n",
        "  **Common Dunder Methods:**\n",
        "\n",
        "Dunder Method\tPurpose\tExample Use\n",
        "\n",
        "__init__\tObject initializer (constructor)\tCalled when you create an object\n",
        "__str__\tString representation (used by print)\tprint(obj)\n",
        "__repr__\tDeveloper-friendly string (used in REPL)\trepr(obj)\n",
        "__add__\tDefines behavior for + operator\tobj1 + obj2\n",
        "__len__\tReturns the length of an object\tlen(obj)\n",
        "\n",
        "  **Example:**"
      ],
      "metadata": {
        "id": "QwD4FRO6bpYD"
      }
    },
    {
      "cell_type": "code",
      "source": [
        "class Book:\n",
        "    def __init__(self, title):\n",
        "        self.title = title\n",
        "\n",
        "    def __str__(self):\n",
        "        return f\"Book: {self.title}\"\n",
        "\n",
        "    def __len__(self):\n",
        "        return len(self.title)\n",
        "\n",
        "book = Book(\"Python 101\")\n",
        "print(book)       # Book: Python 101\n",
        "print(len(book))  # 10"
      ],
      "metadata": {
        "colab": {
          "base_uri": "https://localhost:8080/"
        },
        "id": "nlUaBfBScULT",
        "outputId": "fc0319d4-1aad-4ef6-9164-c63da953347f"
      },
      "execution_count": null,
      "outputs": [
        {
          "output_type": "stream",
          "name": "stdout",
          "text": [
            "Book: Python 101\n",
            "10\n"
          ]
        }
      ]
    },
    {
      "cell_type": "markdown",
      "source": [
        "Dunder methods make your objects behave like built-in types—kind of like giving them \"superpowers.\""
      ],
      "metadata": {
        "id": "QnqVev8RcYRj"
      }
    },
    {
      "cell_type": "markdown",
      "source": [
        "**Question-6: Explain the concept of inheritance in OOP.**\n",
        "\n",
        "Answer: Inheritance in Object-Oriented Programming (OOP) is a concept where one class (child/subclass) can inherit the attributes and methods of another class (parent/superclass).\n",
        "\n",
        "\n",
        "  **Why Use Inheritance**\n",
        "**Code reusability:** Avoid repeating code.\n",
        "\n",
        "**Hierarchy modeling:** Represent \"is-a\" relationships (e.g., a Dog is a type of Animal).\n",
        "\n",
        "**Extensibility:** You can extend or override behavior from the parent class.\n",
        "\n",
        "  **Basic Example in Python:**"
      ],
      "metadata": {
        "id": "5tNv50nFcZvO"
      }
    },
    {
      "cell_type": "code",
      "source": [
        "# Parent class\n",
        "class Animal:\n",
        "    def __init__(self, name):\n",
        "        self.name = name\n",
        "\n",
        "    def speak(self):\n",
        "        return \"Some sound\"\n",
        "\n",
        "# Child class\n",
        "class Dog(Animal):\n",
        "    def speak(self):\n",
        "        return \"Woof!\"\n",
        "\n",
        "# Create an instance of Dog\n",
        "dog = Dog(\"Buddy\")\n",
        "print(dog.name)      # Inherited from Animal\n",
        "print(dog.speak())   # Overridden in Dog class"
      ],
      "metadata": {
        "colab": {
          "base_uri": "https://localhost:8080/"
        },
        "id": "iWJmtu_3dPW7",
        "outputId": "25adabd1-486b-4cc6-f2a6-848f4688cbd7"
      },
      "execution_count": null,
      "outputs": [
        {
          "output_type": "stream",
          "name": "stdout",
          "text": [
            "Buddy\n",
            "Woof!\n"
          ]
        }
      ]
    },
    {
      "cell_type": "markdown",
      "source": [
        "**Key Points:**\n",
        "\n",
        "The Dog class inherits from Animal.\n",
        "\n",
        "It gets access to __init__ from Animal.\n",
        "\n",
        "It overrides the speak() method to give a specific behavior."
      ],
      "metadata": {
        "id": "iiuuroswdU5J"
      }
    },
    {
      "cell_type": "markdown",
      "source": [
        " **Real-world Analogy:**\n",
        "\n",
        "If \"Vehicle\" is a base class, then \"Car\", \"Bike\", and \"Bus\" can inherit from it, reusing features like start_engine() or stop() while adding their own specific behaviors."
      ],
      "metadata": {
        "id": "DWjJYxC0dbAX"
      }
    },
    {
      "cell_type": "markdown",
      "source": [
        "**Question-7: What is polymorphism in OOP?**\n",
        "\n",
        "**Answer:** Polymorphism in Object-Oriented Programming (OOP) means “many forms”—it allows objects of different classes to be treated through a common interface, even though they may behave differently.\n",
        "\n",
        " ** What It Does:**\n",
        "It lets you use the same method name or operator for different types of objects, and each will respond in its own way.\n",
        "\n",
        "  **Two Main Types of Polymorphism:**\n",
        "Method Overriding (Runtime Polymorphism):\n",
        "A child class defines a method that overrides a method in the parent class.\n",
        "\n",
        "Method Overloading (not natively supported in Python):\n",
        "You define multiple methods with the same name but different parameters (Python handles this differently using default args or *args).\n",
        "\n",
        "\n",
        "**Example: Method Overriding**"
      ],
      "metadata": {
        "id": "Y9h6knlOdfap"
      }
    },
    {
      "cell_type": "code",
      "source": [
        "class Animal:\n",
        "    def speak(self):\n",
        "        return \"Some sound\"\n",
        "\n",
        "class Dog(Animal):\n",
        "    def speak(self):\n",
        "        return \"Woof!\"\n",
        "\n",
        "class Cat(Animal):\n",
        "    def speak(self):\n",
        "        return \"Meow!\"\n",
        "\n",
        "# Polymorphism in action\n",
        "def make_animal_speak(animal):\n",
        "    print(animal.speak())\n",
        "\n",
        "make_animal_speak(Dog())  # Woof!\n",
        "make_animal_speak(Cat())  # Meow!"
      ],
      "metadata": {
        "colab": {
          "base_uri": "https://localhost:8080/"
        },
        "id": "p2KghKzUeIZy",
        "outputId": "eba76caa-afb3-43c2-c110-37681e10ee60"
      },
      "execution_count": null,
      "outputs": [
        {
          "output_type": "stream",
          "name": "stdout",
          "text": [
            "Woof!\n",
            "Meow!\n"
          ]
        }
      ]
    },
    {
      "cell_type": "markdown",
      "source": [
        "Here, different objects (Dog, Cat) respond differently to the same speak() method—this is polymorphism.\n",
        "\n",
        "  **Real-world Analogy:**\n",
        "  \n",
        "Think of a remote control (interface): whether it's for a TV, AC, or fan, pressing the power button performs the \"turn on\" action, but each device responds in its own way."
      ],
      "metadata": {
        "id": "tqrezQs5eKrt"
      }
    },
    {
      "cell_type": "markdown",
      "source": [
        "**Question-8: How is encapsulation achieved in Python?**\n",
        "\n",
        "**Answer:** Encapsulation in Python is achieved primarily through the use of classes and access modifiers. It’s a core concept of object-oriented programming that involves bundling data (attributes) and methods (functions) that operate on the data into a single unit (class), and restricting direct access to some of the object’s components.\n",
        "\n",
        "Here’s how encapsulation is implemented in Python:\n",
        "\n",
        "1. **Using Classes**\n",
        "\n",
        "\n",
        "Encapsulation starts by defining a class to contain data and methods:"
      ],
      "metadata": {
        "id": "2zb5Pz8ieeCl"
      }
    },
    {
      "cell_type": "code",
      "source": [
        "class Person:\n",
        "    def __init__(self, name, age):\n",
        "        self.name = name  # public attribute\n",
        "        self._age = age   # protected attribute\n",
        "        self.__ssn = \"123-45-6789\"  # private attribute\n",
        "\n",
        "    def display(self):\n",
        "        print(f\"Name: {self.name}, Age: {self._age}\")"
      ],
      "metadata": {
        "id": "PTfIjWVre5Xa"
      },
      "execution_count": null,
      "outputs": []
    },
    {
      "cell_type": "markdown",
      "source": [
        "**2. Access Modifiers**\n",
        "\n",
        "Python doesn’t enforce access restrictions as strictly as some other languages (like Java or C++), but it uses naming conventions:\n",
        "\n",
        "public (no underscore): accessible from outside the class.\n",
        "\n",
        "_protected (single underscore): a convention to indicate internal use (not enforced).\n",
        "\n",
        "__private (double underscore): name mangling is used to make it harder to access from outside."
      ],
      "metadata": {
        "id": "sy1zJfr4e901"
      }
    },
    {
      "cell_type": "code",
      "source": [
        "person = Person(\"Alice\", 30)\n",
        "print(person.name)       # OK\n",
        "print(person._age)       # Not recommended, but possible\n",
        "# print(person.__ssn)    # Error: AttributeError\n",
        "print(person._Person__ssn)  # OK (name mangling bypass)"
      ],
      "metadata": {
        "colab": {
          "base_uri": "https://localhost:8080/"
        },
        "id": "OuD55VoffF6O",
        "outputId": "7af71c83-e33c-4323-d479-df37e808f8aa"
      },
      "execution_count": null,
      "outputs": [
        {
          "output_type": "stream",
          "name": "stdout",
          "text": [
            "Alice\n",
            "30\n",
            "123-45-6789\n"
          ]
        }
      ]
    },
    {
      "cell_type": "markdown",
      "source": [
        "**3. Getter and Setter Methods**\n",
        "\n",
        "To control access to private attributes, you can define getter/setter methods:"
      ],
      "metadata": {
        "id": "PvJJt_SzfR6t"
      }
    },
    {
      "cell_type": "code",
      "source": [
        "class BankAccount:\n",
        "    def __init__(self):\n",
        "        self.__balance = 0\n",
        "\n",
        "    def get_balance(self):\n",
        "        return self.__balance\n",
        "\n",
        "    def deposit(self, amount):\n",
        "        if amount > 0:\n",
        "            self.__balance += amount"
      ],
      "metadata": {
        "id": "SFf5opsBfUuJ"
      },
      "execution_count": null,
      "outputs": []
    },
    {
      "cell_type": "markdown",
      "source": [
        "**4. Using @property Decorator (Pythonic way)**\n",
        "\n",
        "Python allows properties to encapsulate access in a clean syntax:"
      ],
      "metadata": {
        "id": "Uy6SLivBfY0W"
      }
    },
    {
      "cell_type": "code",
      "source": [
        "class Temperature:\n",
        "    def __init__(self, celsius):\n",
        "        self.__celsius = celsius\n",
        "\n",
        "    @property\n",
        "    def celsius(self):\n",
        "        return self.__celsius\n",
        "\n",
        "    @celsius.setter\n",
        "    def celsius(self, value):\n",
        "        if value >= -273.15:\n",
        "            self.__celsius = value"
      ],
      "metadata": {
        "id": "LtfQgQWEfhil"
      },
      "execution_count": null,
      "outputs": []
    },
    {
      "cell_type": "markdown",
      "source": [
        "**Question-9: What is a constructor in Python?**\n",
        "\n",
        "**Answer:** A constructor in Python is a special method used to initialize a newly created object of a class. In Python, the constructor is defined using the __init__() method.\n",
        "\n",
        " **Syntax:**"
      ],
      "metadata": {
        "id": "4Vy5beSHfmXI"
      }
    },
    {
      "cell_type": "code",
      "source": [
        "class ClassName:\n",
        "    def __init__(self, parameters):\n",
        "        # initialization code\n",
        "        pass"
      ],
      "metadata": {
        "id": "A9DWo3Tuf9p5"
      },
      "execution_count": null,
      "outputs": []
    },
    {
      "cell_type": "markdown",
      "source": [
        "The __init__() method is automatically called when a new object is created from the class.\n",
        "\n",
        " **Example:**"
      ],
      "metadata": {
        "id": "L08ZgoTXgE8K"
      }
    },
    {
      "cell_type": "code",
      "source": [
        "class Dog:\n",
        "    def __init__(self, name, breed):\n",
        "        self.name = name\n",
        "        self.breed = breed\n",
        "\n",
        "# Creating an object (calls the constructor)\n",
        "my_dog = Dog(\"Buddy\", \"Golden Retriever\")\n",
        "\n",
        "print(my_dog.name)   # Buddy\n",
        "print(my_dog.breed)  # Golden Retriever"
      ],
      "metadata": {
        "colab": {
          "base_uri": "https://localhost:8080/"
        },
        "id": "3G5bjrx8gJ9L",
        "outputId": "a0290e77-1467-4acb-ce3d-d29dd8186f8d"
      },
      "execution_count": null,
      "outputs": [
        {
          "output_type": "stream",
          "name": "stdout",
          "text": [
            "Buddy\n",
            "Golden Retriever\n"
          ]
        }
      ]
    },
    {
      "cell_type": "markdown",
      "source": [
        "**Key Points:**\n",
        "\n",
        "__init__ is not mandatory to define in a class, but if you want to set initial values, it's the go-to.\n",
        "\n",
        "self is the reference to the current instance of the class and must be the first parameter."
      ],
      "metadata": {
        "id": "h67XX8JUgQmq"
      }
    },
    {
      "cell_type": "markdown",
      "source": [
        "**Question-10: What are class and static methods in Python?**\n",
        "\n",
        "**Answer:** In Python, class methods and static methods are two types of methods that you can define in a class, and they're used differently than regular instance methods.\n",
        "\n",
        "1. **Class Method (@classmethod)**\n",
        "\n",
        "A class method is bound to the class, not the instance. It has access to class-level data and receives the class as its first argument, typically named cls.\n",
        "\n",
        "  **When to use:**\n",
        "When you need to access or modify class-level variables.\n",
        "\n",
        "To define alternative constructors.\n",
        "\n",
        "  **Syntax:**"
      ],
      "metadata": {
        "id": "s-SzoX1-gekb"
      }
    },
    {
      "cell_type": "code",
      "source": [
        "class MyClass:\n",
        "    class_var = 0\n",
        "\n",
        "    @classmethod\n",
        "    def update_class_var(cls, value):\n",
        "        cls.class_var = value"
      ],
      "metadata": {
        "id": "-nEQzlmIhFKx"
      },
      "execution_count": null,
      "outputs": []
    },
    {
      "cell_type": "markdown",
      "source": [
        "**Example:**"
      ],
      "metadata": {
        "id": "ONof7JKyhHdD"
      }
    },
    {
      "cell_type": "code",
      "source": [
        "MyClass.update_class_var(10)\n",
        "print(MyClass.class_var)  # 10"
      ],
      "metadata": {
        "colab": {
          "base_uri": "https://localhost:8080/"
        },
        "id": "3iKOm1yyhLiO",
        "outputId": "eeadd3a4-0932-4793-abac-1690d8e15dd5"
      },
      "execution_count": null,
      "outputs": [
        {
          "output_type": "stream",
          "name": "stdout",
          "text": [
            "10\n"
          ]
        }
      ]
    },
    {
      "cell_type": "markdown",
      "source": [
        "2. **Static Method (@staticmethod)**\n",
        "\n",
        "A static method does not receive an implicit first argument (self or cls). It behaves like a regular function, just organized inside a class.\n",
        "\n",
        "  **When to use:**\n",
        "\n",
        "When the method doesn’t access instance or class data.\n",
        "\n",
        "For utility/helper functions related to the class.\n",
        "\n",
        "  **Syntax:**"
      ],
      "metadata": {
        "id": "0mvOp1kVhSZG"
      }
    },
    {
      "cell_type": "code",
      "source": [
        "class MyMath:\n",
        "    @staticmethod\n",
        "    def add(a, b):\n",
        "        return a + b"
      ],
      "metadata": {
        "id": "JCiND5J-hdM8"
      },
      "execution_count": null,
      "outputs": []
    },
    {
      "cell_type": "markdown",
      "source": [
        "**Example:**"
      ],
      "metadata": {
        "id": "yEyCRyOKhhR8"
      }
    },
    {
      "cell_type": "code",
      "source": [
        "print(MyMath.add(3, 5))  # 8"
      ],
      "metadata": {
        "colab": {
          "base_uri": "https://localhost:8080/"
        },
        "id": "lFrZn5vohoJZ",
        "outputId": "a312998d-9042-4690-fb3a-43f7a067b216"
      },
      "execution_count": null,
      "outputs": [
        {
          "output_type": "stream",
          "name": "stdout",
          "text": [
            "8\n"
          ]
        }
      ]
    },
    {
      "cell_type": "markdown",
      "source": [
        "**Quick Comparison:**"
      ],
      "metadata": {
        "id": "kFp_y8RXhseh"
      }
    },
    {
      "cell_type": "markdown",
      "source": [
        "**Feature**      | **Instance Method** | **Class Method** | **Static Method**\n",
        "First Arg        | self (instance)     | cls (class)      | None\n",
        "Access Instance? | ✅                  | ❌              | ❌\n",
        "Access Class?    | ❌                  | ✅              | ❌"
      ],
      "metadata": {
        "id": "IBthlX_gh_KR"
      }
    },
    {
      "cell_type": "markdown",
      "source": [
        "**Question-11: What is method overloading in Python?**\n",
        "\n",
        "**Answer:** Method overloading in Python refers to the ability to define multiple methods with the same name but different arguments (number or type). However, unlike languages like Java or C++, Python does not support traditional method overloading directly.\n",
        "\n",
        "Instead, Python allows a single method with default arguments or variable-length arguments to achieve similar behavior.\n",
        "\n",
        "\n",
        "**Example using default arguments:**"
      ],
      "metadata": {
        "id": "-vb3yjbKigjj"
      }
    },
    {
      "cell_type": "code",
      "source": [
        "class Greet:\n",
        "    def hello(self, name=None):\n",
        "        if name:\n",
        "            print(f\"Hello, {name}!\")\n",
        "        else:\n",
        "            print(\"Hello!\")\n",
        "\n",
        "g = Greet()\n",
        "g.hello()         # Output: Hello!\n",
        "g.hello(\"Alice\")  # Output: Hello, Alice!"
      ],
      "metadata": {
        "colab": {
          "base_uri": "https://localhost:8080/"
        },
        "id": "ZyVUK3oti4o2",
        "outputId": "7bdc87be-0984-43d5-c22f-33474fa74a8f"
      },
      "execution_count": null,
      "outputs": [
        {
          "output_type": "stream",
          "name": "stdout",
          "text": [
            "Hello!\n",
            "Hello, Alice!\n"
          ]
        }
      ]
    },
    {
      "cell_type": "markdown",
      "source": [
        "**Example using** *args:"
      ],
      "metadata": {
        "id": "YbQnVl3Ii6nZ"
      }
    },
    {
      "cell_type": "code",
      "source": [
        "class Adder:\n",
        "    def add(self, *args):\n",
        "        return sum(args)\n",
        "\n",
        "a = Adder()\n",
        "print(a.add(2, 3))        # Output: 5\n",
        "print(a.add(1, 2, 3, 4))  # Output: 10"
      ],
      "metadata": {
        "colab": {
          "base_uri": "https://localhost:8080/"
        },
        "id": "IYZPvJHtjM_v",
        "outputId": "962ac777-f269-41eb-9765-e56be7926974"
      },
      "execution_count": null,
      "outputs": [
        {
          "output_type": "stream",
          "name": "stdout",
          "text": [
            "5\n",
            "10\n"
          ]
        }
      ]
    },
    {
      "cell_type": "markdown",
      "source": [
        "So, while Python doesn't support method overloading by multiple method definitions, you can simulate it using default parameters or *args/**kwargs."
      ],
      "metadata": {
        "id": "REVX8XgHjPE7"
      }
    },
    {
      "cell_type": "markdown",
      "source": [
        "**Question-12: What is method overriding in OOP?**\n",
        "\n",
        "**Answer:** Method overriding in Object-Oriented Programming (OOP) occurs when a subclass provides its own implementation of a method that is already defined in its superclass. The method in the subclass has the same name, parameters, and functionality as the method in the parent class, but it can provide a different or more specific behavior.\n",
        "\n",
        "**Key points about method overriding:**\n",
        "Same method signature: The method in the subclass has the same name and parameters as the method in the parent class.\n",
        "\n",
        "**Runtime behavior:** Method overriding is typically resolved at runtime (polymorphism), where the method in the subclass is called instead of the method in the parent class when an object of the subclass is used.\n",
        "\n",
        "**Inheritance:** Overriding is always done in a subclass that inherits from a superclass.\n",
        "\n",
        "**Example of method overriding in Python:**"
      ],
      "metadata": {
        "id": "-2uLPQhcjWL1"
      }
    },
    {
      "cell_type": "code",
      "source": [
        "class Animal:\n",
        "    def speak(self):\n",
        "        print(\"Animal makes a sound\")\n",
        "\n",
        "class Dog(Animal):\n",
        "    def speak(self):  # Overriding the speak method of Animal class\n",
        "        print(\"Dog barks\")\n",
        "\n",
        "class Cat(Animal):\n",
        "    def speak(self):  # Overriding the speak method of Animal class\n",
        "        print(\"Cat meows\")\n",
        "\n",
        "# Create instances of Dog and Cat\n",
        "dog = Dog()\n",
        "cat = Cat()\n",
        "\n",
        "dog.speak()  # Output: Dog barks\n",
        "cat.speak()  # Output: Cat meows"
      ],
      "metadata": {
        "colab": {
          "base_uri": "https://localhost:8080/"
        },
        "id": "n6ODc4tTj19F",
        "outputId": "570f005e-b624-4f4f-907f-ab7aa1c8f6a1"
      },
      "execution_count": null,
      "outputs": [
        {
          "output_type": "stream",
          "name": "stdout",
          "text": [
            "Dog barks\n",
            "Cat meows\n"
          ]
        }
      ]
    },
    {
      "cell_type": "markdown",
      "source": [
        "In this example:\n",
        "\n",
        "The Animal class defines a speak method.\n",
        "\n",
        "The Dog and Cat classes override the speak method with their own specific implementations.\n",
        "\n",
        "**Why use method overriding?**\n",
        "\n",
        "**Polymorphism:** It allows objects of different classes to be treated as objects of a common superclass, but they can behave differently depending on the subclass type.\n",
        "\n",
        "**Customization:** Subclasses can alter or enhance the behavior of methods inherited from a parent class to fit their specific needs."
      ],
      "metadata": {
        "id": "MEWQ43FNj6dv"
      }
    },
    {
      "cell_type": "markdown",
      "source": [
        "**Question-13: What is a property decorator in Python?**\n",
        "\n",
        "**Answer:** The property decorator in Python is used to define methods that behave like attributes. It allows you to define getter, setter, and deleter methods for an attribute while maintaining the appearance of accessing a regular attribute. This is useful when you want to control access to an attribute, perform validation, or compute the value dynamically without changing the way the attribute is accessed in the code.\n",
        "\n",
        "**Basic Usage of property**\n",
        "\n",
        "With the property decorator, you can define methods that are accessed like attributes, but they can perform additional actions (such as calculations or checks) when accessed or modified.\n",
        "\n",
        "**Example of the property decorator:**"
      ],
      "metadata": {
        "id": "t_ub4W6DkGgb"
      }
    },
    {
      "cell_type": "code",
      "source": [
        "class Circle:\n",
        "    def __init__(self, radius):\n",
        "        self._radius = radius\n",
        "\n",
        "    # Getter method for radius\n",
        "    @property\n",
        "    def radius(self):\n",
        "        return self._radius\n",
        "\n",
        "    # Setter method for radius\n",
        "    @radius.setter\n",
        "    def radius(self, value):\n",
        "        if value < 0:\n",
        "            raise ValueError(\"Radius cannot be negative!\")\n",
        "        self._radius = value\n",
        "\n",
        "    # Property for area\n",
        "    @property\n",
        "    def area(self):\n",
        "        return 3.14159 * (self._radius ** 2)\n",
        "\n",
        "# Creating an instance of Circle\n",
        "c = Circle(5)\n",
        "print(c.radius)  # Output: 5\n",
        "print(c.area)    # Output: 78.53975\n",
        "\n",
        "# Setting a new radius\n",
        "c.radius = 10\n",
        "print(c.area)    # Output: 314.159\n",
        "\n",
        "# Trying to set a negative radius will raise an exception\n",
        "# c.radius = -5  # Raises ValueError: Radius cannot be negative!"
      ],
      "metadata": {
        "colab": {
          "base_uri": "https://localhost:8080/"
        },
        "id": "LfC6aJA4kdbA",
        "outputId": "594bb0cb-b224-4061-a5c2-37ea47ff7174"
      },
      "execution_count": null,
      "outputs": [
        {
          "output_type": "stream",
          "name": "stdout",
          "text": [
            "5\n",
            "78.53975\n",
            "314.159\n"
          ]
        }
      ]
    },
    {
      "cell_type": "markdown",
      "source": [
        "**How it works:**\n",
        "\n",
        "**Getter (@property):** The radius method is marked with @property, which means it can be accessed like an attribute (e.g., c.radius) rather than as a method (e.g., c.get_radius()).\n",
        "\n",
        "**Setter (@property.setter):** The radius setter method allows you to set the radius with some validation (in this case, preventing negative values).\n",
        "\n",
        "**Additional Property:** The area property is calculated dynamically based on the radius and doesn't require storage in a separate variable.\n",
        "\n",
        "**Why use property?**\n",
        "\n",
        "**Encapsulation:** You can hide the internal data representation while still allowing controlled access to it.\n",
        "\n",
        "**Validation:** You can add validation logic when getting or setting an attribute, as shown with the setter method.\n",
        "\n",
        "**Read-only properties:** By defining only a getter method, you can create read-only attributes that cannot be modified directly."
      ],
      "metadata": {
        "id": "jqWAjjD1kjgX"
      }
    },
    {
      "cell_type": "markdown",
      "source": [
        "**Question-14: Why is polymorphism important in OOP?**\n",
        "\n",
        "**Answer:** Polymorphism is one of the four fundamental principles of Object-Oriented Programming (OOP), and it plays a critical role in making programs more flexible, extensible, and easier to maintain. The term polymorphism means \"many shapes\" and refers to the ability of different classes to be treated as instances of the same class through a common interface. In OOP, polymorphism allows objects of different types to be handled using a common interface, typically by inheriting from the same superclass or implementing the same interface.\n",
        "\n",
        "**Key Reasons Why Polymorphism is Important in OOP:**\n",
        "\n",
        "**Code Reusability**: Polymorphism enables code reuse by allowing objects of different classes to be treated in a similar way. You can write functions or methods that work with objects of different types without needing to know the specifics of the types.\n",
        "\n",
        "**Example:** If multiple classes (like Dog, Cat, Bird) inherit from a common superclass Animal, you can create a function that works with any object of type Animal, without worrying about the specific type of animal."
      ],
      "metadata": {
        "id": "F-mDaL7Qk-IT"
      }
    },
    {
      "cell_type": "code",
      "source": [
        "class Animal:\n",
        "    def speak(self):\n",
        "        pass\n",
        "\n",
        "class Dog(Animal):\n",
        "    def speak(self):\n",
        "        print(\"Bark\")\n",
        "\n",
        "class Cat(Animal):\n",
        "    def speak(self):\n",
        "        print(\"Meow\")\n",
        "\n",
        "def animal_speak(animal: Animal):\n",
        "    animal.speak()  # Polymorphism: The specific method depends on the object type\n",
        "\n",
        "dog = Dog()\n",
        "cat = Cat()\n",
        "\n",
        "animal_speak(dog)  # Output: Bark\n",
        "animal_speak(cat)  # Output: Meow"
      ],
      "metadata": {
        "colab": {
          "base_uri": "https://localhost:8080/"
        },
        "id": "YBfiBxEvmNly",
        "outputId": "37a01e51-2012-4db0-a29e-a63d7e7ce108"
      },
      "execution_count": null,
      "outputs": [
        {
          "output_type": "stream",
          "name": "stdout",
          "text": [
            "Bark\n",
            "Meow\n"
          ]
        }
      ]
    },
    {
      "cell_type": "markdown",
      "source": [
        "**Extensibility:** Polymorphism makes your code more extensible. You can introduce new classes and methods without modifying existing code, leading to better flexibility and easier maintenance.\n",
        "\n",
        "For example, adding a new Bird class or other animals to the above program doesn't require changes to the animal_speak() function. It can still work with any object that inherits from Animal.\n",
        "\n",
        "**Dynamic Method Binding (Late Binding)**: Polymorphism allows method calls to be resolved at runtime (late binding), so the specific method executed depends on the object type, not on the variable type. This is what makes polymorphism a form of dynamic dispatch, as opposed to early binding (where the method call is resolved at compile-time).\n",
        "\n",
        "This allows your programs to be more flexible and adaptable. For example, you might not know the exact class of an object when writing code, but polymorphism allows you to call the appropriate method at runtime.\n",
        "\n",
        "**Simplified Code:** Polymorphism can reduce the complexity of code by avoiding the need for explicit type checks. You don’t have to manually check the type of an object (e.g., if isinstance(object, Dog)); you can simply call methods defined by a common interface or superclass, making the code easier to read and maintain.\n",
        "\n",
        "Example of polymorphism reducing complexity:"
      ],
      "metadata": {
        "id": "pMQG0wBBmW57"
      }
    },
    {
      "cell_type": "code",
      "source": [
        "class Shape:\n",
        "    def draw(self):\n",
        "        pass\n",
        "\n",
        "class Circle(Shape):\n",
        "    def draw(self):\n",
        "        print(\"Drawing a circle\")\n",
        "\n",
        "class Rectangle(Shape):\n",
        "    def draw(self):\n",
        "        print(\"Drawing a rectangle\")\n",
        "\n",
        "def draw_shape(shape: Shape):\n",
        "    shape.draw()  # Polymorphism: the correct `draw` method is called based on the object\n",
        "\n",
        "shapes = [Circle(), Rectangle()]\n",
        "for shape in shapes:\n",
        "    draw_shape(shape)  # No need to check type manually"
      ],
      "metadata": {
        "colab": {
          "base_uri": "https://localhost:8080/"
        },
        "id": "tACrXN4Gmkld",
        "outputId": "3d8e163d-ca5b-438e-f45a-bb7b22ddef56"
      },
      "execution_count": null,
      "outputs": [
        {
          "output_type": "stream",
          "name": "stdout",
          "text": [
            "Drawing a circle\n",
            "Drawing a rectangle\n"
          ]
        }
      ]
    },
    {
      "cell_type": "markdown",
      "source": [
        "**Improved Maintainability:** With polymorphism, your system is easier to maintain because adding new classes and functionalities often requires minimal or no changes to existing code. This follows the Open/Closed Principle, one of the SOLID design principles, which states that a class should be open for extension but closed for modification.\n",
        "\n",
        "**Enhanced Flexibility and Adaptability:** Polymorphism makes it easier to create flexible, adaptable systems that can evolve without breaking existing functionality. You can introduce new behaviors (methods) or change existing ones without affecting the overall design or breaking old code.\n",
        "\n",
        "**Real-World Analogy:**\n",
        "Imagine you have a remote control. The remote control has buttons like Power, Volume Up, and Volume Down. The same remote can control different devices, such as a TV, Air Conditioner, or Speaker. Each device reacts differently when you press a button (e.g., a TV will turn on/off, an AC will adjust its temperature, and a speaker will change its volume), but the interface (the remote) remains the same. This is an example of polymorphism in action.\n",
        "\n",
        "**Conclusion:**\n",
        "\n",
        "Polymorphism in OOP is important because it allows you to write code that is more reusable, flexible, and easier to maintain. By enabling different objects to be treated the same way through a common interface or base class, polymorphism fosters extensibility, adaptability, and cleaner code design."
      ],
      "metadata": {
        "id": "yZFNAK_UmtJ2"
      }
    },
    {
      "cell_type": "markdown",
      "source": [
        "**Question-15: What is an abstract class in Python?**\n",
        "\n",
        "**Answer:** An abstract class in Python is a class that cannot be instantiated directly and is designed to be subclassed by other classes. It provides a blueprint for other classes to follow. Abstract classes are used to define a common interface for a group of related classes and can include abstract methods—methods that are declared but contain no implementation. Subclasses are required to implement these abstract methods.\n",
        "\n",
        "In Python, the abc module (Abstract Base Class module) provides the functionality to create abstract classes.\n",
        "\n",
        "**Key Features of Abstract Classes:**\n",
        "\n",
        "**Cannot be instantiated:** You cannot create an instance of an abstract class directly.\n",
        "\n",
        "**Abstract methods:** These are methods that are declared in the abstract class but do not contain any implementation. Subclasses must provide an implementation for these methods.\n",
        "\n",
        "**Inheritance:** Subclasses that inherit from an abstract class must implement all of its abstract methods, unless the subclass is also abstract.\n",
        "\n",
        "**Common interface:** Abstract classes allow you to define a common interface for all the classes that inherit from it.\n",
        "\n",
        "**How to Define an Abstract Class in Python**:\n",
        "\n",
        "Import the ABC class and abstractmethod decorator from the abc module.\n",
        "\n",
        "Use the @abstractmethod decorator to declare abstract methods in the abstract class.\n",
        "\n",
        "In subclasses, implement all abstract methods.\n",
        "\n",
        "**Example of an Abstract Class:**"
      ],
      "metadata": {
        "id": "kvsv1GHmnEFa"
      }
    },
    {
      "cell_type": "code",
      "source": [
        "from abc import ABC, abstractmethod\n",
        "\n",
        "class Animal(ABC):\n",
        "    @abstractmethod\n",
        "    def speak(self):\n",
        "        pass  # Abstract method, no implementation\n",
        "\n",
        "    @abstractmethod\n",
        "    def move(self):\n",
        "        pass  # Abstract method, no implementation\n",
        "\n",
        "class Dog(Animal):\n",
        "    def speak(self):\n",
        "        return \"Bark\"\n",
        "\n",
        "    def move(self):\n",
        "        return \"Run\"\n",
        "\n",
        "class Bird(Animal):\n",
        "    def speak(self):\n",
        "        return \"Chirp\"\n",
        "\n",
        "    def move(self):\n",
        "        return \"Fly\"\n",
        "\n",
        "# You cannot create an instance of Animal directly\n",
        "# animal = Animal()  # This would raise TypeError: Can't instantiate abstract class Animal with abstract methods speak, move\n",
        "\n",
        "# You must create instances of subclasses\n",
        "dog = Dog()\n",
        "print(dog.speak())  # Output: Bark\n",
        "print(dog.move())   # Output: Run\n",
        "\n",
        "bird = Bird()\n",
        "print(bird.speak())  # Output: Chirp\n",
        "print(bird.move())   # Output: Fly"
      ],
      "metadata": {
        "colab": {
          "base_uri": "https://localhost:8080/"
        },
        "id": "-8EHBVbLoDmK",
        "outputId": "b84dbdf7-b12e-4f87-95f3-18ef1d1a092c"
      },
      "execution_count": null,
      "outputs": [
        {
          "output_type": "stream",
          "name": "stdout",
          "text": [
            "Bark\n",
            "Run\n",
            "Chirp\n",
            "Fly\n"
          ]
        }
      ]
    },
    {
      "cell_type": "markdown",
      "source": [
        "**Explanation:**\n",
        "\n",
        "The Animal class is abstract because it inherits from ABC and contains abstract methods speak() and move().\n",
        "\n",
        "The Dog and Bird classes are concrete subclasses that implement the abstract methods defined in Animal.\n",
        "\n",
        "You cannot create an instance of Animal directly, because it has abstract methods.\n",
        "\n",
        "You can create instances of Dog and Bird, as they have implemented the abstract methods.\n",
        "\n",
        "**Why Use Abstract Classes?**\n",
        "\n",
        "**Enforcing a common interface:** Abstract classes ensure that all subclasses implement certain methods, guaranteeing that all objects of those subclasses share a common interface.\n",
        "\n",
        "**Code organization:** They allow you to group related methods in a parent class while ensuring that child classes implement their own specific behavior.\n",
        "\n",
        "**Polymorphism:** Abstract classes help in creating a unified API for different subclasses. For example, you can create a list of Animal objects and call speak() or move() on them, regardless of the specific subclass.\n",
        "\n",
        "**Abstract Methods with Implementation:**\n",
        "\n",
        "You can also have methods in an abstract class that provide default behavior, and it’s not mandatory to override them in subclasses. These methods are just regular methods that provide a default implementation, while the abstract methods require subclassing."
      ],
      "metadata": {
        "id": "7V_UZ7JtoIps"
      }
    },
    {
      "cell_type": "code",
      "source": [
        "class Animal(ABC):\n",
        "    @abstractmethod\n",
        "    def speak(self):\n",
        "        pass\n",
        "\n",
        "    def eat(self):\n",
        "        print(\"Eating food...\")  # Regular method with implementation\n",
        "\n",
        "class Dog(Animal):\n",
        "    def speak(self):\n",
        "        return \"Bark\"\n",
        "\n",
        "# Dog can use the eat method without overriding it\n",
        "dog = Dog()\n",
        "dog.speak()  # Output: Bark\n",
        "dog.eat()    # Output: Eating food..."
      ],
      "metadata": {
        "colab": {
          "base_uri": "https://localhost:8080/"
        },
        "id": "HruHF_aDogz8",
        "outputId": "cd50c6cf-c1bc-4a71-e616-ddab3db89b50"
      },
      "execution_count": null,
      "outputs": [
        {
          "output_type": "stream",
          "name": "stdout",
          "text": [
            "Eating food...\n"
          ]
        }
      ]
    },
    {
      "cell_type": "markdown",
      "source": [
        "**Conclusion:**\n",
        "\n",
        "An abstract class in Python is a way to define a common interface and shared behavior across a set of subclasses. It provides a clear structure by enforcing that certain methods are implemented in the subclasses, making the code more organized and consistent. Abstract classes are an essential tool when designing large systems or frameworks where you want to ensure certain methods exist in all subclasses."
      ],
      "metadata": {
        "id": "M3RbhqEIomj3"
      }
    },
    {
      "cell_type": "markdown",
      "source": [
        "**Question-16:  What are the advantages of OOP?**\n",
        "\n",
        "**Answer:**  Object-Oriented Programming (OOP) offers several advantages that make it an attractive paradigm for developing software, particularly for large, complex, or long-term projects. Here are some of the key advantages of OOP:\n",
        "\n",
        "**1. Modularity**\n",
        "\n",
        "OOP encourages modular programming, where the software is divided into small, self-contained objects that are easier to manage and understand.\n",
        "\n",
        "Each object typically corresponds to a real-world entity, and its functionality is encapsulated in its class. This makes it easier to update, maintain, and scale the software by focusing on individual objects.\n",
        "\n",
        "**Example:** In a game development scenario, you might have classes like Player, Enemy, Weapon, and PowerUp. These classes are modular and can be worked on independently.\n",
        "\n",
        "**2. Reusability**\n",
        "\n",
        "Code reusability is one of the biggest benefits of OOP. Once a class is written and tested, it can be reused in other parts of the program or even in different projects.\n",
        "\n",
        "Inheritance allows you to create new classes by building upon existing ones, without having to rewrite the same code.\n",
        "\n",
        "**Example:** You can create a base Shape class, and then inherit it in Circle, Rectangle, and Triangle classes, reusing the common features.\n",
        "\n",
        "**3. Maintainability**\n",
        "\n",
        "OOP's use of modular design and encapsulation makes software easier to maintain and update.\n",
        "\n",
        "When changes are required, they are often limited to one part of the system, reducing the risk of affecting unrelated components.\n",
        "\n",
        "**Example:** If a new feature is added to the Player class in a game, it won't affect other components like the Enemy class, as long as their interactions are well-defined.\n",
        "\n",
        "**4. Extensibility**\n",
        "\n",
        "OOP allows for the easy extension of systems. New functionality can be added with minimal changes to existing code, making the system highly extensible.\n",
        "\n",
        "You can create subclasses that extend the functionality of parent classes through inheritance, and polymorphism allows for flexible behavior in different contexts.\n",
        "\n",
        "**Example:** You can add new types of Shape (e.g., Hexagon) without changing the existing Circle or Rectangle classes, and without affecting any code that uses those classes.\n",
        "\n",
        "**5. Encapsulation**\n",
        "\n",
        "Encapsulation refers to the concept of bundling data (attributes) and methods (functions) that operate on the data into a single unit called an object.\n",
        "\n",
        "It also restricts direct access to some of an object's components, which helps prevent accidental modification and encourages better data integrity.\n",
        "\n",
        "**Example:** You might use a BankAccount class with a private attribute for balance, and provide getter and setter methods to control how the balance is modified."
      ],
      "metadata": {
        "id": "8KgvfoGyovwf"
      }
    },
    {
      "cell_type": "code",
      "source": [
        "class BankAccount:\n",
        "    def __init__(self, balance):\n",
        "        self.__balance = balance  # Private attribute\n",
        "\n",
        "    def deposit(self, amount):\n",
        "        if amount > 0:\n",
        "            self.__balance += amount\n",
        "\n",
        "    def get_balance(self):\n",
        "        return self.__balance"
      ],
      "metadata": {
        "id": "SirMgKzKryYo"
      },
      "execution_count": null,
      "outputs": []
    },
    {
      "cell_type": "markdown",
      "source": [
        "This keeps the balance from being directly accessed and modified by code outside the class.\n",
        "\n",
        "**6. Polymorphism**\n",
        "\n",
        "Polymorphism allows objects of different classes to be treated as objects of a common superclass. It enables the same method or function to behave differently based on the object it is acting upon.\n",
        "\n",
        "This provides great flexibility in writing code that can work with objects of various types in a consistent manner.\n",
        "\n",
        "**Example:** If you have an abstract Shape class and different subclasses like Circle and Rectangle, you can write functions that accept any Shape object and call the appropriate draw method without knowing which specific subclass it is."
      ],
      "metadata": {
        "id": "zG465E-5sJ57"
      }
    },
    {
      "cell_type": "code",
      "source": [
        "class Shape:\n",
        "    def draw(self):\n",
        "        pass\n",
        "\n",
        "class Circle(Shape):\n",
        "    def draw(self):\n",
        "        print(\"Drawing Circle\")\n",
        "\n",
        "class Rectangle(Shape):\n",
        "    def draw(self):\n",
        "        print(\"Drawing Rectangle\")\n",
        "\n",
        "def draw_shape(shape: Shape):\n",
        "    shape.draw()\n",
        "\n",
        "draw_shape(Circle())      # Output: Drawing Circle\n",
        "draw_shape(Rectangle())   # Output: Drawing Rectangle"
      ],
      "metadata": {
        "colab": {
          "base_uri": "https://localhost:8080/"
        },
        "id": "OeT_DDbasVU8",
        "outputId": "1f1570bc-3f20-4431-8553-f042194dd803"
      },
      "execution_count": null,
      "outputs": [
        {
          "output_type": "stream",
          "name": "stdout",
          "text": [
            "Drawing Circle\n",
            "Drawing Rectangle\n"
          ]
        }
      ]
    },
    {
      "cell_type": "markdown",
      "source": [
        "**7. Improved Collaboration**\n",
        "\n",
        "OOP allows teams to work on different parts of a program simultaneously. Because objects are self-contained, team members can work on different objects or classes without stepping on each other's toes.\n",
        "\n",
        "Each class has a clear interface (i.e., methods), making it easier for multiple developers to collaborate, and reduces conflicts in code.\n",
        "\n",
        "**Example:** In a large project like a web application, one developer could focus on implementing the user authentication system (as a class), while another works on the database model class, and a third focuses on the UI components.\n",
        "\n",
        "**8. Abstraction**\n",
        "\n",
        "Abstraction allows you to hide complex implementation details and only expose essential features of an object. This helps users interact with the object without needing to understand its internal workings.\n",
        "\n",
        "It makes it easier to focus on high-level logic without getting bogged down in implementation details.\n",
        "\n",
        "**Example:** When using a Database class, you don't need to know how the connection is made or how queries are executed—you just use the methods provided, such as connect() and execute_query().\n",
        "\n",
        "**9. Better Data Security**\n",
        "\n",
        "With OOP's encapsulation, you can control what data is accessible from outside the class, making it possible to restrict access to sensitive information and protect data integrity.\n",
        "\n",
        "This is especially important in scenarios where security and integrity of data are critical.\n",
        "\n",
        "**Example:** In a banking system, account balances might be hidden from direct access and modified only through controlled methods like deposit and withdraw.\n",
        "\n",
        "**10. Real-World Modeling**\n",
        "\n",
        "OOP allows for modeling real-world entities (such as people, cars, buildings, etc.) as objects, which makes the code more intuitive and easier to understand.\n",
        "\n",
        "The object-oriented approach mirrors the way we naturally think about the world—entities with properties (attributes) and behaviors (methods).\n",
        "\n",
        "**Example:** A Car class might have properties like color and model, and behaviors like drive() and stop(). This makes the code easier to conceptualize and align with real-world concepts.\n",
        "\n",
        "**Conclusion:**\n",
        "\n",
        "OOP provides a structured approach to software development that makes code more modular, reusable, and maintainable. By encouraging practices like encapsulation, inheritance, and polymorphism, it helps create flexible, extensible, and scalable software systems. These advantages make OOP a powerful paradigm for developing complex applications."
      ],
      "metadata": {
        "id": "XgORk1HwsdyM"
      }
    },
    {
      "cell_type": "markdown",
      "source": [
        "**Question-17: What is the difference between a class variable and an instance variable?**\n",
        "\n",
        "**Answer:**  In Python, class variables and instance variables are used to store data, but they differ in\n",
        "terms of their scope and behavior within the class and objects.\n",
        "\n",
        " Let’s break down the key differences:\n",
        "\n",
        " **Class Variables:**\n",
        "\n",
        "● Defined inside the class but outside any methods.\n",
        "\n",
        "● Shared among all instances (objects) of the class.\n",
        "\n",
        "● If a class variable is modified, the change is reflected across all instances.\n",
        "\n",
        "● Typically used for data that should be shared across all objects of the class (like constants or\n",
        "shared resources).\n",
        "\n",
        " **Instance Variables:**\n",
        "\n",
        "● Defined inside methods (usually the init() constructor) using the self keyword.\n",
        "\n",
        "● Unique to each instance (object) of the class.\n",
        "\n",
        "● Each object has its own copy of instance variables.\n",
        "\n",
        "● Used for object-specific data that can vary across different instances."
      ],
      "metadata": {
        "id": "vi9HKlgbtKja"
      }
    },
    {
      "cell_type": "markdown",
      "source": [
        "**Question-18: What is multiple inheritance in Python?**\n",
        "\n",
        "**Answer:**  Multiple inheritance in Python is a feature that allows a class to inherit from more than one\n",
        "parent class. This means that a child class can inherit attributes and methods from multiple\n",
        "parent classes, enabling a richer and more flexible class structure.\n",
        "\n",
        "  **How Multiple Inheritance Works in Python:**\n",
        "\n",
        "● Python supports multiple inheritance by allowing a class to inherit from multiple parent\n",
        "classes. When a method is called on an instance of the child class, Python follows the MRO\n",
        "to determine which method to execute, based on the class hierarchy.\n",
        "\n",
        " **Example of Multiple Inheritance:**"
      ],
      "metadata": {
        "id": "6vxsjgGSwSMJ"
      }
    },
    {
      "source": [
        "class Animal:\n",
        "    def speak(self): # Added indentation (4 spaces)\n",
        "        print(\"Animal makes a sound\")\n",
        "class Mammal:\n",
        "    def has_hair(self): # Added indentation (4 spaces)\n",
        "        print(\"Mammals have hair\")\n",
        "class Dog(Animal, Mammal): # Dog inherits from both Animal and Mammal\n",
        "    def bark(self): # Added indentation (4 spaces)\n",
        "        print(\"Dog barks\")\n",
        "# Create an instance of Dog\n",
        "dog = Dog()\n",
        "# Accessing methods from both parent classes\n",
        "dog.speak() # 👉 Animal makes a sound\n",
        "dog.has_hair() # 👉 Mammals have hair\n",
        "dog.bark() # 👉 Dog barks"
      ],
      "cell_type": "code",
      "metadata": {
        "colab": {
          "base_uri": "https://localhost:8080/"
        },
        "id": "5VgoYIiTXvBG",
        "outputId": "c3288a93-2ece-4c71-8b8e-3bf3dc495b5f"
      },
      "execution_count": null,
      "outputs": [
        {
          "output_type": "stream",
          "name": "stdout",
          "text": [
            "Animal makes a sound\n",
            "Mammals have hair\n",
            "Dog barks\n"
          ]
        }
      ]
    },
    {
      "cell_type": "markdown",
      "source": [
        "**in this example:**\n",
        "\n",
        "● Dog inherits from both Animal and Mammal.\n",
        "\n",
        "● It has access to methods from both parent classes (speak from Animal and has_hair from Mammal), as well as its own method bark."
      ],
      "metadata": {
        "id": "dYr44jOiX465"
      }
    },
    {
      "cell_type": "markdown",
      "source": [
        "**Question-19: Explain the purpose of ‘’__str__’ and ‘__repr__’ ‘ methods in Python?**\n",
        "\n",
        "**Answer:** In Python, the __str__ and __repr__ methods are special methods that control how an object is represented as a string.\n",
        "\n",
        "__str__ (string)\n",
        "\n",
        "Used by the str() function and by the print() function.\n",
        "\n",
        "Its purpose is to return a nice, readable string version of the object.\n",
        "\n",
        "Think of it like: \"What should users see?\"\n",
        "\n",
        "__repr__ (representation)\n",
        "\n",
        "Used by the repr() function, and by default when you just type the object in the console.\n",
        "\n",
        "Its purpose is to return a detailed, unambiguous string that could ideally be used to recreate the object.\n",
        "\n",
        "**Think of it like:** \"What should developers see?\"\n",
        "\n",
        "**Example:**"
      ],
      "metadata": {
        "id": "aEiND4BGX_N6"
      }
    },
    {
      "cell_type": "code",
      "source": [
        "class Book:\n",
        "    def __init__(self, title, author):\n",
        "        self.title = title\n",
        "        self.author = author\n",
        "\n",
        "    def __str__(self):\n",
        "        return f\"{self.title} by {self.author}\"\n",
        "\n",
        "    def __repr__(self):\n",
        "        return f\"Book('{self.title}', '{self.author}')\"\n",
        "\n",
        "b = Book(\"1984\", \"George Orwell\")\n",
        "\n",
        "print(b)            # Calls __str__: 1984 by George Orwell\n",
        "print(repr(b))      # Calls __repr__: Book('1984', 'George Orwell')"
      ],
      "metadata": {
        "colab": {
          "base_uri": "https://localhost:8080/"
        },
        "id": "guNwTqcHY98O",
        "outputId": "886e55fd-72b7-49b1-e054-0bd1d9080f56"
      },
      "execution_count": null,
      "outputs": [
        {
          "output_type": "stream",
          "name": "stdout",
          "text": [
            "1984 by George Orwell\n",
            "Book('1984', 'George Orwell')\n"
          ]
        }
      ]
    },
    {
      "cell_type": "markdown",
      "source": [
        "**In short:**\n",
        "\n",
        "__str__ → human-friendly\n",
        "\n",
        "__repr__ → developer-friendly (and ideally, reproducible)"
      ],
      "metadata": {
        "id": "psg6mO1zZDiR"
      }
    },
    {
      "cell_type": "markdown",
      "source": [
        "**Question-20: What is the significance of the ‘super()’ function in Python?**\n",
        "\n",
        "**Answer:** The super() function in Python is used to call methods from a parent (super) class.\n",
        "It's mostly used in inheritance when you want to extend or customize the behavior of a parent class without completely rewriting it.\n",
        "\n",
        "**Why super() is important:**\n",
        "\n",
        "It avoids duplicating code.\n",
        "\n",
        "It makes it easier to change the parent class later.\n",
        "\n",
        "It supports multiple inheritance properly (Python has something called the Method Resolution Order or MRO, and super() handles it correctly).\n",
        "\n",
        "**Simple Example:**"
      ],
      "metadata": {
        "id": "S23gijtDZGdt"
      }
    },
    {
      "cell_type": "code",
      "source": [
        "class Animal:\n",
        "    def __init__(self, name):\n",
        "        self.name = name\n",
        "\n",
        "    def speak(self):\n",
        "        print(f\"{self.name} makes a noise.\")\n",
        "\n",
        "class Dog(Animal):\n",
        "    def __init__(self, name, breed):\n",
        "        super().__init__(name)  # Call Animal's __init__\n",
        "        self.breed = breed\n",
        "\n",
        "    def speak(self):\n",
        "        super().speak()  # Call Animal's speak\n",
        "        print(f\"{self.name} barks.\")\n",
        "\n",
        "dog = Dog(\"Buddy\", \"Golden Retriever\")\n",
        "dog.speak()"
      ],
      "metadata": {
        "colab": {
          "base_uri": "https://localhost:8080/"
        },
        "id": "iETe05GmZlkl",
        "outputId": "7fab759a-c352-4bf6-bc0f-2cd1239e3683"
      },
      "execution_count": null,
      "outputs": [
        {
          "output_type": "stream",
          "name": "stdout",
          "text": [
            "Buddy makes a noise.\n",
            "Buddy barks.\n"
          ]
        }
      ]
    },
    {
      "cell_type": "markdown",
      "source": [
        "**Output:**"
      ],
      "metadata": {
        "id": "NBBohkGYZq3y"
      }
    },
    {
      "cell_type": "code",
      "source": [
        "print(\"Buddy makes a noise\")\n",
        "print(\"Buddy barks\")"
      ],
      "metadata": {
        "colab": {
          "base_uri": "https://localhost:8080/"
        },
        "id": "imqALiNKZsxI",
        "outputId": "3de6c1a4-440d-4316-ca84-86278f4d8d2e"
      },
      "execution_count": null,
      "outputs": [
        {
          "output_type": "stream",
          "name": "stdout",
          "text": [
            "Buddy makes a noise\n",
            "Buddy barks\n"
          ]
        }
      ]
    },
    {
      "cell_type": "markdown",
      "source": [
        "**In short:**\n",
        "\n",
        "super() lets the child class reuse parts of the parent class.\n",
        "\n",
        "It helps with cleaner, more maintainable code."
      ],
      "metadata": {
        "id": "P4yU-MfbaCQ6"
      }
    },
    {
      "cell_type": "markdown",
      "source": [
        "**Question-21: What is the significance of the __del__ method in Python?**\n",
        "\n",
        "**Answer:** The __del__ method in Python is called a destructor.\n",
        "Its main job is to clean up when an object is about to be destroyed (i.e., when it's about to be deleted from memory).\n",
        "\n",
        "**Why __del__ is significant:**\n",
        "\n",
        "It lets you free up resources that the object was using (like closing files, network connections, or releasing locks).\n",
        "\n",
        "It's automatically called when there are no more references to an object.\n",
        "\n",
        "**Example:**"
      ],
      "metadata": {
        "id": "AngURrOJaHRg"
      }
    },
    {
      "cell_type": "code",
      "source": [
        "class FileHandler:\n",
        "    def __init__(self, filename):\n",
        "        self.file = open(filename, 'w')\n",
        "\n",
        "    def write_data(self, data):\n",
        "        self.file.write(data)\n",
        "\n",
        "    def __del__(self):\n",
        "        print(\"Closing file...\")\n",
        "        self.file.close()\n",
        "\n",
        "f = FileHandler(\"example.txt\")\n",
        "f.write_data(\"Hello, World!\")\n",
        "del f  # __del__ is called automatically here"
      ],
      "metadata": {
        "colab": {
          "base_uri": "https://localhost:8080/"
        },
        "id": "mec_ns40b9w0",
        "outputId": "3a34309b-1d94-42ca-e2a9-25f2a47b304b"
      },
      "execution_count": null,
      "outputs": [
        {
          "output_type": "stream",
          "name": "stdout",
          "text": [
            "Closing file...\n"
          ]
        }
      ]
    },
    {
      "cell_type": "markdown",
      "source": [
        "**Output:**"
      ],
      "metadata": {
        "id": "WnU5WRCHauzc"
      }
    },
    {
      "cell_type": "code",
      "source": [
        "\"Closing file\""
      ],
      "metadata": {
        "colab": {
          "base_uri": "https://localhost:8080/",
          "height": 35
        },
        "id": "I87HsO0-cCMO",
        "outputId": "09e87581-f74c-4cb1-f9cb-555104815ed3"
      },
      "execution_count": null,
      "outputs": [
        {
          "output_type": "execute_result",
          "data": {
            "text/plain": [
              "'Closing file'"
            ],
            "application/vnd.google.colaboratory.intrinsic+json": {
              "type": "string"
            }
          },
          "metadata": {},
          "execution_count": 23
        }
      ]
    },
    {
      "cell_type": "markdown",
      "source": [
        "**Important points:**\n",
        "\n",
        "__del__ is not always guaranteed to be called immediately — if something else (like circular references) is holding onto the object, destruction might be delayed.\n",
        "\n",
        "Because of this, it's better to use things like context managers (with statement) for resource management when possible.\n",
        "\n",
        "**In short:**\n",
        "\n",
        "__del__ = object's cleanup crew.\n",
        "\n",
        "But: Use it carefully, and prefer with blocks for critical resources like files!"
      ],
      "metadata": {
        "id": "KcPg3ybtccYt"
      }
    },
    {
      "cell_type": "markdown",
      "source": [
        "**Question-22:  What is the difference between @staticmethod and @classmethod in Python?**\n",
        "\n",
        "**Answer:**  **@staticmethod**\n",
        "\n",
        "A static method doesn't take the self or cls parameter.\n",
        "\n",
        "It does not care about the object (self) or the class (cls).\n",
        "\n",
        "It behaves like a regular function but belongs inside the class (for logical grouping).\n",
        "\n",
        "**@classmethod**\n",
        "\n",
        "A class method takes cls as the first parameter (not self).\n",
        "\n",
        "It works with the class itself, not an instance.\n",
        "\n",
        "It can modify the class state or create new class instances.\n",
        "\n",
        "**Example:**"
      ],
      "metadata": {
        "id": "yJp4fGyjct5y"
      }
    },
    {
      "cell_type": "code",
      "source": [
        "class MyClass:\n",
        "    @staticmethod\n",
        "    def add(x, y):\n",
        "        return x + y\n",
        "\n",
        "    @classmethod\n",
        "    def create_with_value(cls, value):\n",
        "        return cls(value)\n",
        "\n",
        "    def __init__(self, value):\n",
        "        self.value = value\n",
        "\n",
        "# Using static method\n",
        "result = MyClass.add(5, 7)\n",
        "print(result)  # Output: 12\n",
        "\n",
        "# Using class method\n",
        "obj = MyClass.create_with_value(10)\n",
        "print(obj.value)  # Output: 10"
      ],
      "metadata": {
        "colab": {
          "base_uri": "https://localhost:8080/"
        },
        "id": "pJWFbBBodNZn",
        "outputId": "24a6c852-5947-4a2f-f856-52a2e9ce6998"
      },
      "execution_count": null,
      "outputs": [
        {
          "output_type": "stream",
          "name": "stdout",
          "text": [
            "12\n",
            "10\n"
          ]
        }
      ]
    },
    {
      "cell_type": "markdown",
      "source": [
        "**Quick Comparison Table:**"
      ],
      "metadata": {
        "id": "p2-AChUZdZeX"
      }
    },
    {
      "cell_type": "markdown",
      "source": [
        "**Feature** | **@staticmethod **| **@classmethod**\n",
        "\n",
        "First parameter | None | cls (class itself)\n",
        "Access to instance? | No | No\n",
        "Access to class? | No | Yes\n",
        "Usage | Utility functions | Factory methods, class state changes"
      ],
      "metadata": {
        "id": "omLteZUSdlUT"
      }
    },
    {
      "cell_type": "markdown",
      "source": [
        "**In short:**\n",
        "\n",
        "**@staticmethod** → just a normal function inside a class.\n",
        "\n",
        "**@classmethod** → a method that knows about and works with the class."
      ],
      "metadata": {
        "id": "LzW0W79WdyAQ"
      }
    },
    {
      "cell_type": "markdown",
      "source": [
        "**Question-23: How does polymorphism work in Python with inheritance?**\n",
        "\n",
        "**Answer:** Polymorphism in Python (and in general programming) means \"many forms.\"\n",
        "When you combine it with inheritance, it lets you write code that works on objects of different classes in the same way, as long as they share a common interface (like a method with the same name).\n",
        "\n",
        "\n",
        "Here’s how it usually works:\n",
        "\n",
        "\n",
        "You create a base class with some method.\n",
        "\n",
        "You create child classes that inherit from that base class and override the method.\n",
        "\n",
        "You treat different objects uniformly — even though they behave differently under the hood.\n",
        "\n",
        "**Example:**"
      ],
      "metadata": {
        "id": "XdtOV0r2d5Kn"
      }
    },
    {
      "cell_type": "code",
      "source": [
        "class Animal:\n",
        "    def speak(self):\n",
        "        print(\"Some generic animal sound\")\n",
        "\n",
        "class Dog(Animal):\n",
        "    def speak(self):\n",
        "        print(\"Woof!\")\n",
        "\n",
        "class Cat(Animal):\n",
        "    def speak(self):\n",
        "        print(\"Meow!\")\n",
        "\n",
        "# Polymorphism in action\n",
        "def make_animal_speak(animal):\n",
        "    animal.speak()\n",
        "\n",
        "dog = Dog()\n",
        "cat = Cat()\n",
        "\n",
        "make_animal_speak(dog)  # Woof!\n",
        "make_animal_speak(cat)  # Meow!"
      ],
      "metadata": {
        "colab": {
          "base_uri": "https://localhost:8080/"
        },
        "id": "rGt_VATWeq8c",
        "outputId": "44edb1a1-c3ed-4554-b227-7e5debaf8a5e"
      },
      "execution_count": null,
      "outputs": [
        {
          "output_type": "stream",
          "name": "stdout",
          "text": [
            "Woof!\n",
            "Meow!\n"
          ]
        }
      ]
    },
    {
      "cell_type": "markdown",
      "source": [
        "make_animal_speak doesn't care whether it's a Dog or a Cat.\n",
        "\n",
        "It just calls speak(), and the right method gets called automatically — that's **polymorphism!**\n",
        "\n",
        "Python is very flexible because it uses something called duck typing — \"if it looks like a duck and quacks like a duck, it must be a duck.\"\n",
        "You don't even need formal inheritance, but inheritance just makes it clearer and organized."
      ],
      "metadata": {
        "id": "ZdZiCqrZexCZ"
      }
    },
    {
      "cell_type": "markdown",
      "source": [
        "**Question-24: What is method chaining in Python OOP?**\n",
        "\n",
        "**Answer:**  Method chaining is when you call multiple methods on the same object in a single line by having each method return the object itself (or another object you can chain onto).\n",
        "\n",
        "It looks super clean and readable when done right.\n",
        "\n",
        "**Example:**"
      ],
      "metadata": {
        "id": "2VAs9lTee_DH"
      }
    },
    {
      "cell_type": "code",
      "source": [
        "class Person:\n",
        "    def __init__(self, name):\n",
        "        self.name = name\n",
        "        self.age = None\n",
        "        self.city = None\n",
        "\n",
        "    def set_age(self, age):\n",
        "        self.age = age\n",
        "        return self  # Returning self allows chaining\n",
        "\n",
        "    def set_city(self, city):\n",
        "        self.city = city\n",
        "        return self\n",
        "\n",
        "    def display(self):\n",
        "        print(f\"Name: {self.name}, Age: {self.age}, City: {self.city}\")\n",
        "        return self\n",
        "\n",
        "# Method chaining\n",
        "p = Person(\"Alice\")\n",
        "p.set_age(30).set_city(\"New York\").display()\n",
        "\n",
        "#Output:"
      ],
      "metadata": {
        "colab": {
          "base_uri": "https://localhost:8080/"
        },
        "id": "pDOOOojjhOCK",
        "outputId": "d325e463-ccfd-42cd-f1b0-837a0a4f86e7"
      },
      "execution_count": null,
      "outputs": [
        {
          "output_type": "stream",
          "name": "stdout",
          "text": [
            "Name: Alice, Age: 30, City: New York\n"
          ]
        },
        {
          "output_type": "execute_result",
          "data": {
            "text/plain": [
              "<__main__.Person at 0x7a23b46a3050>"
            ]
          },
          "metadata": {},
          "execution_count": 34
        }
      ]
    },
    {
      "cell_type": "markdown",
      "source": [
        "**Why return self?**\n",
        "\n",
        "Because otherwise, after calling a method, you wouldn’t have the object to call another method on! Returning self hands back the object itself.\n",
        "\n",
        "**Quick points:**\n",
        "\n",
        "It’s clean, especially when setting multiple attributes or doing a series of actions.\n",
        "\n",
        "Not every method has to return self, only the ones you want to chain.\n",
        "\n",
        "It's very common in builder patterns, data manipulation libraries (like Pandas), and fluent APIs."
      ],
      "metadata": {
        "id": "eYI96ekAh412"
      }
    },
    {
      "cell_type": "markdown",
      "source": [
        "**Question-25: What is the purpose of the __call__ method in Python?**\n",
        "\n",
        "**Answer:** The __call__ method in Python allows an instance of a class to be called like a regular function.\n",
        "\n",
        "When you define __call__ inside a class, you can then \"call\" an object of that class using parentheses (), and Python will automatically invoke the __call__ method.\n",
        "\n",
        "**Example:**"
      ],
      "metadata": {
        "id": "U_f2vMaxiAgf"
      }
    },
    {
      "cell_type": "code",
      "source": [
        "class Greeter:\n",
        "    def __init__(self, name):\n",
        "        self.name = name\n",
        "\n",
        "    def __call__(self, greeting):\n",
        "        return f\"{greeting}, {self.name}!\"\n",
        "\n",
        "greet = Greeter(\"Alice\")\n",
        "print(greet(\"Hello\"))  # Output: Hello, Alice!"
      ],
      "metadata": {
        "colab": {
          "base_uri": "https://localhost:8080/"
        },
        "id": "kDot-m6PiUkm",
        "outputId": "cead7ee5-71ff-48ab-e991-70569c58ad70"
      },
      "execution_count": null,
      "outputs": [
        {
          "output_type": "stream",
          "name": "stdout",
          "text": [
            "Hello, Alice!\n"
          ]
        }
      ]
    },
    {
      "cell_type": "markdown",
      "source": [
        "**In this example,**\n",
        "\n",
        " greet(\"Hello\") is the same as calling greet.__call__(\"Hello\").\n",
        "\n",
        "**In short:**\n",
        "\n",
        "It makes your objects callable, just like functions."
      ],
      "metadata": {
        "id": "2RKmk-kXia-_"
      }
    },
    {
      "cell_type": "markdown",
      "source": [
        "# **Practical Questions**"
      ],
      "metadata": {
        "id": "03E-I6UIipIR"
      }
    },
    {
      "cell_type": "code",
      "source": [
        "#Question-1: Create a parent class Animal with a method speak() that prints a generic message. Create a child class Dog\n",
        "# that overrides the speak() method to print \"Bark!\"."
      ],
      "metadata": {
        "id": "2pUBL7bvb0yn"
      },
      "execution_count": 7,
      "outputs": []
    },
    {
      "cell_type": "code",
      "source": [
        "# Parent class\n",
        "class Animal:\n",
        "    def speak(self):\n",
        "        print(\"The animal makes a sound.\")\n",
        "\n",
        "# Child class\n",
        "class Dog(Animal):\n",
        "    def speak(self):\n",
        "        print(\"Bark!\")\n",
        "\n",
        "# Example usage\n",
        "animal = Animal()\n",
        "animal.speak()  # Output: The animal makes a sound.\n",
        "\n",
        "dog = Dog()\n",
        "dog.speak()     # Output: Bark!"
      ],
      "metadata": {
        "colab": {
          "base_uri": "https://localhost:8080/"
        },
        "id": "OtVNVMh1jyt2",
        "outputId": "82d797a6-b25c-4a04-9cde-3a87cb00c80a"
      },
      "execution_count": 10,
      "outputs": [
        {
          "output_type": "stream",
          "name": "stdout",
          "text": [
            "The animal makes a sound.\n",
            "Bark!\n"
          ]
        }
      ]
    },
    {
      "cell_type": "code",
      "source": [
        "#Question-2: Write a program to create an abstract class Shape with a method area(). Derive classes Circle and Rectangle from it and implement the area() method in both.\n",
        "\n",
        "from abc import ABC, abstractmethod\n",
        "import math\n",
        "\n",
        "# Abstract class\n",
        "class Shape(ABC):\n",
        "    @abstractmethod\n",
        "    def area(self):\n",
        "        pass\n",
        "\n",
        "# Circle class derived from Shape\n",
        "class Circle(Shape):\n",
        "    def __init__(self, radius):\n",
        "        self.radius = radius\n",
        "\n",
        "    def area(self):\n",
        "        return math.pi * self.radius ** 2\n",
        "\n",
        "# Rectangle class derived from Shape\n",
        "class Rectangle(Shape):\n",
        "    def __init__(self, width, height):\n",
        "        self.width = width\n",
        "        self.height = height\n",
        "\n",
        "    def area(self):\n",
        "        return self.width * self.height\n",
        "\n",
        "# Example usage\n",
        "if __name__ == \"__main__\":\n",
        "    c = Circle(5)\n",
        "    r = Rectangle(4, 6)\n",
        "\n",
        "    print(f\"Area of Circle: {c.area():.2f}\")\n",
        "    print(f\"Area of Rectangle: {r.area():.2f}\")"
      ],
      "metadata": {
        "colab": {
          "base_uri": "https://localhost:8080/"
        },
        "id": "dnQUJKZKcWF9",
        "outputId": "6e990073-3a49-475d-b4c8-b6bf96e48ab8"
      },
      "execution_count": 11,
      "outputs": [
        {
          "output_type": "stream",
          "name": "stdout",
          "text": [
            "Area of Circle: 78.54\n",
            "Area of Rectangle: 24.00\n"
          ]
        }
      ]
    },
    {
      "cell_type": "code",
      "source": [
        "#Question-3: Implement a multi-level inheritance scenario where a class Vehicle has an attribute type. Derive a class Carand further derive a class ElectricCar that adds a battery attribute.\n",
        "\n",
        "\n",
        "# Base class\n",
        "class Vehicle:\n",
        "    def __init__(self, vehicle_type):\n",
        "        self.vehicle_type = vehicle_type\n",
        "\n",
        "    def display_info(self):\n",
        "        print(f\"Vehicle Type: {self.vehicle_type}\")\n",
        "\n",
        "# Derived class\n",
        "class Car(Vehicle):\n",
        "    def __init__(self, vehicle_type, brand):\n",
        "        super().__init__(vehicle_type)\n",
        "        self.brand = brand\n",
        "\n",
        "    def display_info(self):\n",
        "        super().display_info()\n",
        "        print(f\"Brand: {self.brand}\")\n",
        "\n",
        "# Further derived class\n",
        "class ElectricCar(Car):\n",
        "    def __init__(self, vehicle_type, brand, battery_capacity):\n",
        "        super().__init__(vehicle_type, brand)\n",
        "        self.battery_capacity = battery_capacity\n",
        "\n",
        "    def display_info(self):\n",
        "        super().display_info()\n",
        "        print(f\"Battery Capacity: {self.battery_capacity}\")"
      ],
      "metadata": {
        "id": "fml-s4N8dSV_"
      },
      "execution_count": 17,
      "outputs": []
    },
    {
      "cell_type": "code",
      "source": [
        "#Question-4: Demonstrate polymorphism by creating a base class Bird with a method fly(). Create two derived classesSparrow and Penguin that override the fly() method.\n",
        "\n",
        "# Base class\n",
        "class Bird:\n",
        "    def fly(self):\n",
        "        print(\"Bird is flying\")\n",
        "\n",
        "# Derived class\n",
        "class Sparrow(Bird):\n",
        "    def fly(self):\n",
        "        print(\"Sparrow flies high in the sky!\")\n",
        "\n",
        "# Derived class\n",
        "class Penguin(Bird):\n",
        "    def fly(self):\n",
        "        print(\"Penguins cannot fly but they swim well!\")\n",
        "\n",
        "# Example of polymorphism\n",
        "def bird_flight(bird):\n",
        "    bird.fly()\n",
        "\n",
        "# Create objects\n",
        "sparrow = Sparrow()\n",
        "penguin = Penguin()\n",
        "\n",
        "# Using the same function for different objects\n",
        "bird_flight(sparrow)   # Output: Sparrow flies high in the sky!\n",
        "bird_flight(penguin)   # Output: Penguins cannot fly but they swim well!\n"
      ],
      "metadata": {
        "colab": {
          "base_uri": "https://localhost:8080/"
        },
        "id": "wtwv9LaZd1jv",
        "outputId": "29e4eab0-e7ff-4e85-9e35-52daee4e9bf8"
      },
      "execution_count": 19,
      "outputs": [
        {
          "output_type": "stream",
          "name": "stdout",
          "text": [
            "Sparrow flies high in the sky!\n",
            "Penguins cannot fly but they swim well!\n"
          ]
        }
      ]
    },
    {
      "cell_type": "code",
      "source": [
        "#Question-5: Write a program to demonstrate encapsulation by creating a class BankAccount with private attributesbalance and methods to deposit, withdraw, and check balance.\n",
        "\n",
        "class BankAccount:\n",
        "    def __init__(self, initial_balance=0):\n",
        "        self.__balance = initial_balance  # Private attribute\n",
        "\n",
        "    # Method to deposit money\n",
        "    def deposit(self, amount):\n",
        "        if amount > 0:\n",
        "            self.__balance += amount\n",
        "            print(f\"Deposited: ${amount}\")\n",
        "        else:\n",
        "            print(\"Deposit amount must be positive.\")\n",
        "\n",
        "    # Method to withdraw money\n",
        "    def withdraw(self, amount):\n",
        "        if 0 < amount <= self.__balance:\n",
        "            self.__balance -= amount\n",
        "            print(f\"Withdrew: ${amount}\")\n",
        "        else:\n",
        "            print(\"Invalid withdrawal amount.\")\n",
        "\n",
        "    # Method to check balance\n",
        "    def check_balance(self):\n",
        "        print(f\"Current Balance: ${self.__balance}\")\n",
        "\n",
        "# Example usage\n",
        "account = BankAccount(100)  # Initial balance $100\n",
        "account.deposit(50)\n",
        "account.withdraw(30)\n",
        "account.check_balance()\n",
        "\n",
        "# Trying to access private attribute (will raise an error)\n",
        "# print(account.__balance)  # Uncommenting this line would cause an AttributeError"
      ],
      "metadata": {
        "colab": {
          "base_uri": "https://localhost:8080/"
        },
        "id": "iMvEvq9Te-mO",
        "outputId": "1c1d4a97-c01a-4c47-9ce1-1d5a31b76132"
      },
      "execution_count": 20,
      "outputs": [
        {
          "output_type": "stream",
          "name": "stdout",
          "text": [
            "Deposited: $50\n",
            "Withdrew: $30\n",
            "Current Balance: $120\n"
          ]
        }
      ]
    },
    {
      "cell_type": "code",
      "source": [
        "#Question-6: Demonstrate runtime polymorphism using a method play() in a base class Instrument. Derive classes Guitarand Piano that implement their own version of play().\n",
        "\n",
        "# Base class\n",
        "class Instrument:\n",
        "    def play(self):\n",
        "        print(\"Instrument is playing.\")\n",
        "\n",
        "# Derived class\n",
        "class Guitar(Instrument):\n",
        "    def play(self):\n",
        "        print(\"Guitar is strumming chords!\")\n",
        "\n",
        "# Derived class\n",
        "class Piano(Instrument):\n",
        "    def play(self):\n",
        "        print(\"Piano is playing melodies!\")\n",
        "\n",
        "# Function to demonstrate polymorphism\n",
        "def start_playing(instrument):\n",
        "    instrument.play()\n",
        "\n",
        "# Example usage\n",
        "guitar = Guitar()\n",
        "piano = Piano()\n",
        "\n",
        "start_playing(guitar)  # Output: Guitar is strumming chords!\n",
        "start_playing(piano)   # Output: Piano is playing melodies!"
      ],
      "metadata": {
        "colab": {
          "base_uri": "https://localhost:8080/"
        },
        "id": "wGaTo-i6fZkt",
        "outputId": "c89a83e6-816b-420d-89b9-92e3c2949e1b"
      },
      "execution_count": 21,
      "outputs": [
        {
          "output_type": "stream",
          "name": "stdout",
          "text": [
            "Guitar is strumming chords!\n",
            "Piano is playing melodies!\n"
          ]
        }
      ]
    },
    {
      "cell_type": "code",
      "source": [
        "#Question-7: Create a class MathOperations with a class method add_numbers() to add two numbers and a staticmethod subtract_numbers() to subtract two numbers. class MathOperations:\n",
        "\n",
        "class MathOperations:\n",
        "    @classmethod\n",
        "    def add_numbers(cls, a, b):\n",
        "        return a + b\n",
        "\n",
        "    @staticmethod\n",
        "    def subtract_numbers(a, b):\n",
        "        return a - b\n",
        "\n",
        "# Example usage\n",
        "result_add = MathOperations.add_numbers(10, 5)\n",
        "result_subtract = MathOperations.subtract_numbers(10, 5)\n",
        "\n",
        "print(f\"Addition Result: {result_add}\")        # Output: 15\n",
        "print(f\"Subtraction Result: {result_subtract}\") # Output: 5"
      ],
      "metadata": {
        "colab": {
          "base_uri": "https://localhost:8080/"
        },
        "id": "Q36G_PMYfvej",
        "outputId": "e066667a-d290-4708-8a73-b8ecc96b772e"
      },
      "execution_count": 22,
      "outputs": [
        {
          "output_type": "stream",
          "name": "stdout",
          "text": [
            "Addition Result: 15\n",
            "Subtraction Result: 5\n"
          ]
        }
      ]
    },
    {
      "cell_type": "code",
      "source": [
        "#Question-8: Implement a class Person with a class method to count the total number of persons created\n",
        "\n",
        "class Person:\n",
        "    count = 0  # Class variable to keep track of number of persons\n",
        "\n",
        "    def __init__(self, name):\n",
        "        self.name = name\n",
        "        Person.count += 1\n",
        "\n",
        "    @classmethod\n",
        "    def total_persons(cls):\n",
        "        print(f\"Total Persons Created: {cls.count}\")\n",
        "\n",
        "# Example usage\n",
        "p1 = Person(\"Alice\")\n",
        "p2 = Person(\"Bob\")\n",
        "p3 = Person(\"Charlie\")\n",
        "\n",
        "Person.total_persons()  # Output: Total Persons Created: 3"
      ],
      "metadata": {
        "colab": {
          "base_uri": "https://localhost:8080/"
        },
        "id": "6T_7Rm2bgG3c",
        "outputId": "977cce35-c50f-48eb-a090-65dcaa23f39d"
      },
      "execution_count": 23,
      "outputs": [
        {
          "output_type": "stream",
          "name": "stdout",
          "text": [
            "Total Persons Created: 3\n"
          ]
        }
      ]
    },
    {
      "cell_type": "code",
      "source": [
        "#Question-9: Write a class Fraction with attributes numerator and denominator. Override the str method to display thefraction as \"numerator/denominator\".\n",
        "\n",
        "class Fraction:\n",
        "    def __init__(self, numerator, denominator):\n",
        "        self.numerator = numerator\n",
        "        self.denominator = denominator\n",
        "\n",
        "    def __str__(self):\n",
        "        return f\"{self.numerator}/{self.denominator}\"\n",
        "\n",
        "# Example usage\n",
        "f1 = Fraction(3, 4)\n",
        "f2 = Fraction(5, 8)\n",
        "\n",
        "print(f1)  # Output: 3/4\n",
        "print(f2)  # Output: 5/8"
      ],
      "metadata": {
        "colab": {
          "base_uri": "https://localhost:8080/"
        },
        "id": "wvehM9fUgdsZ",
        "outputId": "86b604a5-948f-4cc8-9b14-6157bd600f5b"
      },
      "execution_count": 24,
      "outputs": [
        {
          "output_type": "stream",
          "name": "stdout",
          "text": [
            "3/4\n",
            "5/8\n"
          ]
        }
      ]
    },
    {
      "cell_type": "code",
      "source": [
        "#Question-10: Demonstrate operator overloading by creating a class Vector and overriding the add method to add two vectors.\n",
        "\n",
        "class Vector:\n",
        "    def __init__(self, x, y):\n",
        "        self.x = x\n",
        "        self.y = y\n",
        "\n",
        "    def __add__(self, other):\n",
        "        return Vector(self.x + other.x, self.y + other.y)\n",
        "\n",
        "    def __str__(self):\n",
        "        return f\"Vector({self.x}, {self.y})\"\n",
        "\n",
        "# Example usage\n",
        "v1 = Vector(2, 3)\n",
        "v2 = Vector(4, 5)\n",
        "\n",
        "v3 = v1 + v2  # Using overloaded '+' operator\n",
        "\n",
        "print(v1)  # Output: Vector(2, 3)\n",
        "print(v2)  # Output: Vector(4, 5)\n",
        "print(v3)  # Output: Vector(6, 8)"
      ],
      "metadata": {
        "colab": {
          "base_uri": "https://localhost:8080/"
        },
        "id": "QDicqKnFgudw",
        "outputId": "7fc4182f-1a1a-4b14-dfc9-8eb91bf1b668"
      },
      "execution_count": 25,
      "outputs": [
        {
          "output_type": "stream",
          "name": "stdout",
          "text": [
            "Vector(2, 3)\n",
            "Vector(4, 5)\n",
            "Vector(6, 8)\n"
          ]
        }
      ]
    },
    {
      "cell_type": "code",
      "source": [
        "#Question-11: Create a class Person with attributes name and age. Add a method greet() that prints \"Hello, my name is{name} and I am {age} years old.\"\n",
        "\n",
        "class Person:\n",
        "    def __init__(self, name, age):\n",
        "        self.name = name\n",
        "        self.age = age\n",
        "\n",
        "    def greet(self):\n",
        "        print(f\"Hello, my name is {self.name} and I am {self.age} years old.\")\n",
        "\n",
        "# Example usage\n",
        "p1 = Person(\"Alice\", 25)\n",
        "p2 = Person(\"Bob\", 30)\n",
        "\n",
        "p1.greet()  # Output: Hello, my name is Alice and I am 25 years old.\n",
        "p2.greet()  # Output: Hello, my name is Bob and I am 30 years old."
      ],
      "metadata": {
        "colab": {
          "base_uri": "https://localhost:8080/"
        },
        "id": "RhXjQ7cYhFwk",
        "outputId": "f33c3f32-e967-41c2-822e-c9b41da73a04"
      },
      "execution_count": 26,
      "outputs": [
        {
          "output_type": "stream",
          "name": "stdout",
          "text": [
            "Hello, my name is Alice and I am 25 years old.\n",
            "Hello, my name is Bob and I am 30 years old.\n"
          ]
        }
      ]
    },
    {
      "cell_type": "code",
      "source": [
        "#Question-12: Implement a class Student with attributes name and grades. Create a method average_grade() to compute the average of the grades.\n",
        "\n",
        "class Student:\n",
        "    def __init__(self, name, grades):\n",
        "        self.name = name\n",
        "        self.grades = grades  # Expecting a list of grades\n",
        "\n",
        "    def average_grade(self):\n",
        "        if self.grades:\n",
        "            return sum(self.grades) / len(self.grades)\n",
        "        else:\n",
        "            return 0\n",
        "\n",
        "# Example usage\n",
        "student1 = Student(\"Alice\", [85, 90, 78, 92])\n",
        "student2 = Student(\"Bob\", [70, 88, 65])\n",
        "\n",
        "print(f\"{student1.name}'s average grade: {student1.average_grade():.2f}\")\n",
        "print(f\"{student2.name}'s average grade: {student2.average_grade():.2f}\")"
      ],
      "metadata": {
        "colab": {
          "base_uri": "https://localhost:8080/"
        },
        "id": "4lLfv45ohcDm",
        "outputId": "1795ca63-2117-4203-8012-9aa5691f0858"
      },
      "execution_count": 27,
      "outputs": [
        {
          "output_type": "stream",
          "name": "stdout",
          "text": [
            "Alice's average grade: 86.25\n",
            "Bob's average grade: 74.33\n"
          ]
        }
      ]
    },
    {
      "cell_type": "code",
      "source": [
        "#Question-13: Create a class Rectangle with methods set_dimensions() to set the dimensions and area() to calculate the area.\n",
        "\n",
        "class Rectangle:\n",
        "    def __init__(self):\n",
        "        self.length = 0\n",
        "        self.width = 0\n",
        "\n",
        "    def set_dimensions(self, length, width):\n",
        "        self.length = length\n",
        "        self.width = width\n",
        "\n",
        "    def area(self):\n",
        "        return self.length * self.width\n",
        "\n",
        "# Example usage\n",
        "rect = Rectangle()\n",
        "rect.set_dimensions(5, 3)\n",
        "\n",
        "print(f\"Area of the rectangle: {rect.area()} square units\")"
      ],
      "metadata": {
        "colab": {
          "base_uri": "https://localhost:8080/"
        },
        "id": "R3CHLCnthwiT",
        "outputId": "58ac56b4-4834-4a97-d69c-9e0fd93efde1"
      },
      "execution_count": 28,
      "outputs": [
        {
          "output_type": "stream",
          "name": "stdout",
          "text": [
            "Area of the rectangle: 15 square units\n"
          ]
        }
      ]
    },
    {
      "cell_type": "code",
      "source": [
        "#Question-14: Create a class Employee with a method calculate_salary() that computes the salary based on hours worked and hourly rate. Create a derived class Manager that adds a bonus to the salary\n",
        "\n",
        "# Base class Employee\n",
        "class Employee:\n",
        "    def __init__(self, name, hours_worked, hourly_rate):\n",
        "        self.name = name\n",
        "        self.hours_worked = hours_worked\n",
        "        self.hourly_rate = hourly_rate\n",
        "\n",
        "    def calculate_salary(self):\n",
        "        # Basic salary calculation: hours worked * hourly rate\n",
        "        return self.hours_worked * self.hourly_rate\n",
        "\n",
        "# Derived class Manager that adds a bonus to the salary\n",
        "class Manager(Employee):\n",
        "    def __init__(self, name, hours_worked, hourly_rate, bonus):\n",
        "        # Initialize the base class\n",
        "        super().__init__(name, hours_worked, hourly_rate)\n",
        "        self.bonus = bonus\n",
        "\n",
        "    def calculate_salary(self):\n",
        "        # Call the base class method to calculate the base salary and add the bonus\n",
        "        base_salary = super().calculate_salary()\n",
        "        return base_salary + self.bonus\n",
        "\n",
        "# Example usage:\n",
        "employee = Employee(\"John Doe\", 160, 20)\n",
        "print(f\"Employee Salary: ${employee.calculate_salary()}\")\n",
        "\n",
        "manager = Manager(\"Jane Smith\", 160, 30, 500)\n",
        "print(f\"Manager Salary: ${manager.calculate_salary()}\")"
      ],
      "metadata": {
        "colab": {
          "base_uri": "https://localhost:8080/"
        },
        "id": "eScRn9IBiByU",
        "outputId": "60bd1b69-78c1-45e6-f1b6-3551d74f7705"
      },
      "execution_count": 29,
      "outputs": [
        {
          "output_type": "stream",
          "name": "stdout",
          "text": [
            "Employee Salary: $3200\n",
            "Manager Salary: $5300\n"
          ]
        }
      ]
    },
    {
      "cell_type": "code",
      "source": [
        "#Question-15: Create a class Product with attributes name, price, and quantity. Implement a method total_price() that calculates the total price of the product.\n",
        "\n",
        "# Product class\n",
        "class Product:\n",
        "    def __init__(self, name, price, quantity):\n",
        "        self.name = name\n",
        "        self.price = price\n",
        "        self.quantity = quantity\n",
        "\n",
        "    def total_price(self):\n",
        "        # Calculate the total price (price * quantity)\n",
        "        return self.price * self.quantity\n",
        "\n",
        "# Example usage:\n",
        "product = Product(\"Laptop\", 1000, 3)\n",
        "print(f\"Total price for {product.name}: ${product.total_price()}\")"
      ],
      "metadata": {
        "colab": {
          "base_uri": "https://localhost:8080/"
        },
        "id": "lwW2Hh_xiwYh",
        "outputId": "2e687b20-2ef5-4d53-f70e-be89a09117eb"
      },
      "execution_count": 30,
      "outputs": [
        {
          "output_type": "stream",
          "name": "stdout",
          "text": [
            "Total price for Laptop: $3000\n"
          ]
        }
      ]
    },
    {
      "cell_type": "code",
      "source": [
        "#Question-16: Create a class Animal with an abstract method sound(). Create two derived classes Cow and Sheep that implement the sound() method.\n",
        "\n",
        "from abc import ABC, abstractmethod\n",
        "\n",
        "# Abstract base class Animal\n",
        "class Animal(ABC):\n",
        "    @abstractmethod\n",
        "    def sound(self):\n",
        "        pass\n",
        "\n",
        "# Derived class Cow\n",
        "class Cow(Animal):\n",
        "    def sound(self):\n",
        "        return \"Moo\"\n",
        "\n",
        "# Derived class Sheep\n",
        "class Sheep(Animal):\n",
        "    def sound(self):\n",
        "        return \"Baa\"\n",
        "\n",
        "# Example usage:\n",
        "cow = Cow()\n",
        "sheep = Sheep()\n",
        "\n",
        "print(f\"Cow sound: {cow.sound()}\")\n",
        "print(f\"Sheep sound: {sheep.sound()}\")"
      ],
      "metadata": {
        "colab": {
          "base_uri": "https://localhost:8080/"
        },
        "id": "R4xSC9tQjKx-",
        "outputId": "1f12622f-f202-43d0-cb4b-f6be65705f91"
      },
      "execution_count": 31,
      "outputs": [
        {
          "output_type": "stream",
          "name": "stdout",
          "text": [
            "Cow sound: Moo\n",
            "Sheep sound: Baa\n"
          ]
        }
      ]
    },
    {
      "cell_type": "code",
      "source": [
        "#Question-17: Create a class Book with attributes title, author, and year_published. Add a method get_book_info() that returns a formatted string with the book's details.\n",
        "\n",
        "# Book class\n",
        "class Book:\n",
        "    def __init__(self, title, author, year_published):\n",
        "        self.title = title\n",
        "        self.author = author\n",
        "        self.year_published = year_published\n",
        "\n",
        "    def get_book_info(self):\n",
        "        # Return a formatted string with the book's details\n",
        "        return f\"Title: {self.title}\\nAuthor: {self.author}\\nYear Published: {self.year_published}\"\n",
        "\n",
        "# Example usage:\n",
        "book = Book(\"1984\", \"George Orwell\", 1949)\n",
        "print(book.get_book_info())"
      ],
      "metadata": {
        "colab": {
          "base_uri": "https://localhost:8080/"
        },
        "id": "NF7uuBRhjj14",
        "outputId": "40b8e74c-752c-4035-a111-74c05ca3450f"
      },
      "execution_count": 32,
      "outputs": [
        {
          "output_type": "stream",
          "name": "stdout",
          "text": [
            "Title: 1984\n",
            "Author: George Orwell\n",
            "Year Published: 1949\n"
          ]
        }
      ]
    },
    {
      "cell_type": "code",
      "source": [
        "#Question-18: Create a class House with attributes address and price. Create a derived class Mansion that adds an attribute number_of_rooms.\n",
        "\n",
        "# Base class House\n",
        "class House:\n",
        "    def __init__(self, address, price):\n",
        "        self.address = address\n",
        "        self.price = price\n",
        "\n",
        "# Derived class Mansion that adds number_of_rooms attribute\n",
        "class Mansion(House):\n",
        "    def __init__(self, address, price, number_of_rooms):\n",
        "        # Initialize the base class\n",
        "        super().__init__(address, price)\n",
        "        self.number_of_rooms = number_of_rooms\n",
        "\n",
        "# Example usage:\n",
        "house = House(\"123 Main St\", 250000)\n",
        "print(f\"House address: {house.address}, Price: ${house.price}\")\n",
        "\n",
        "mansion = Mansion(\"456 Luxury Ln\", 1200000, 10)\n",
        "print(f\"Mansion address: {mansion.address}, Price: ${mansion.price}, Number of rooms: {mansion.number_of_rooms}\")"
      ],
      "metadata": {
        "colab": {
          "base_uri": "https://localhost:8080/"
        },
        "id": "-l-vWHDdj7dQ",
        "outputId": "8da5c9a8-c147-430f-ff62-d1dcd25f65be"
      },
      "execution_count": 33,
      "outputs": [
        {
          "output_type": "stream",
          "name": "stdout",
          "text": [
            "House address: 123 Main St, Price: $250000\n",
            "Mansion address: 456 Luxury Ln, Price: $1200000, Number of rooms: 10\n"
          ]
        }
      ]
    }
  ]
}